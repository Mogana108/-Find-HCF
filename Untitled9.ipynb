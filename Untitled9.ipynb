{
  "nbformat": 4,
  "nbformat_minor": 0,
  "metadata": {
    "colab": {
      "name": "Untitled9.ipynb",
      "provenance": []
    },
    "kernelspec": {
      "name": "python3",
      "display_name": "Python 3"
    },
    "language_info": {
      "name": "python"
    }
  },
  "cells": [
    {
      "cell_type": "code",
      "execution_count": null,
      "metadata": {
        "id": "HL6YD-1uWiUM"
      },
      "outputs": [],
      "source": [
        "# defining a function to calculate HCF  \n",
        "def calculate_hcf(x, y):  \n",
        "    # selecting the smaller number  \n",
        "    if x > y:  \n",
        "        smaller = y  \n",
        "    else:  \n",
        "        smaller = x  \n",
        "    for i in range(1,smaller + 1):  \n",
        "        if((x % i == 0) and (y % i == 0)):  \n",
        "            hcf = i  \n",
        "    return hcf  \n",
        "  \n",
        "# taking input from users  \n",
        "num1 = int(input(\"Enter first number: \"))  \n",
        "num2 = int(input(\"Enter second number: \"))  \n",
        "# printing the result for the users  \n",
        "print(\"The H.C.F. of\", num1,\"and\", num2,\"is\", calculate_hcf(num1, num2))  "
      ]
    }
  ]
}